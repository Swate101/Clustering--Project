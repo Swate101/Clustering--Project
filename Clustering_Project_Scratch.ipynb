{
 "cells": [
  {
   "cell_type": "code",
   "execution_count": 1,
   "id": "68c8c756",
   "metadata": {},
   "outputs": [],
   "source": [
    "import pandas as pd\n",
    "import numpy as np\n",
    "import os\n",
    "import sklearn.preprocessing\n",
    "from sklearn.model_selection import train_test_split\n",
    "from env import host, user, password\n",
    "from sklearn.preprocessing import MinMaxScaler\n",
    "from sklearn.preprocessing import StandardScaler\n",
    "from scipy import stats\n",
    "from sklearn.cluster import KMeans\n",
    "from env import get_db_url\n",
    "\n",
    "import seaborn as sns\n",
    "import matplotlib.pyplot as plt\n",
    "import wrangle as w\n",
    "import explore as exp\n",
    "from wrangle import clean_zillow\n",
    "# modeling methods\n",
    "from sklearn.metrics import mean_squared_error\n",
    "from sklearn.linear_model import LinearRegression, LassoLars\n",
    "from sklearn.preprocessing import PolynomialFeatures\n",
    "from sklearn.ensemble import RandomForestRegressor\n",
    "# Vis imports to make things look pretty \n",
    "import graphviz\n",
    "from sklearn.tree import export_graphviz\n",
    "import matplotlib.style as style \n",
    "style.available\n",
    "style.use('seaborn-talk') #sets the size of the charts\n",
    "style.use('seaborn-colorblind') #sets color of charts\n",
    "from wrangle import wrangle_zillow\n",
    "\n",
    "\n",
    "# ignore warnings\n",
    "import warnings\n",
    "warnings.filterwarnings(\"ignore\")"
   ]
  },
  {
   "cell_type": "markdown",
   "id": "86577b83",
   "metadata": {},
   "source": [
    "<img src=\"stampede.tif\"\n",
    "     alt=\"Markdown Monster icon\"\n",
    "     style=\"float: left; margin-right: 20px;\" />"
   ]
  },
  {
   "cell_type": "markdown",
   "id": "7edd3f71",
   "metadata": {},
   "source": [
    "## <span style=\"color:maroon;\"> In the Event of Clustering use the Elbow Method !!! </span>"
   ]
  },
  {
   "cell_type": "code",
   "execution_count": 2,
   "id": "c6c5f305",
   "metadata": {},
   "outputs": [],
   "source": [
    "df = w.zillow17()"
   ]
  },
  {
   "cell_type": "code",
   "execution_count": 3,
   "id": "bf46c0cd",
   "metadata": {},
   "outputs": [],
   "source": [
    "df = w.clean_zillow(df)"
   ]
  },
  {
   "cell_type": "code",
   "execution_count": 4,
   "id": "c3de7cca",
   "metadata": {},
   "outputs": [
    {
     "data": {
      "text/html": [
       "<div>\n",
       "<style scoped>\n",
       "    .dataframe tbody tr th:only-of-type {\n",
       "        vertical-align: middle;\n",
       "    }\n",
       "\n",
       "    .dataframe tbody tr th {\n",
       "        vertical-align: top;\n",
       "    }\n",
       "\n",
       "    .dataframe thead th {\n",
       "        text-align: right;\n",
       "    }\n",
       "</style>\n",
       "<table border=\"1\" class=\"dataframe\">\n",
       "  <thead>\n",
       "    <tr style=\"text-align: right;\">\n",
       "      <th>parcelid</th>\n",
       "      <th>14297519</th>\n",
       "      <th>17052889</th>\n",
       "      <th>14186244</th>\n",
       "      <th>12177905</th>\n",
       "      <th>10887214</th>\n",
       "    </tr>\n",
       "  </thead>\n",
       "  <tbody>\n",
       "    <tr>\n",
       "      <th>bathrooms</th>\n",
       "      <td>3.5</td>\n",
       "      <td>1.0</td>\n",
       "      <td>2.0</td>\n",
       "      <td>3.0</td>\n",
       "      <td>3.0</td>\n",
       "    </tr>\n",
       "    <tr>\n",
       "      <th>bedrooms</th>\n",
       "      <td>4</td>\n",
       "      <td>2</td>\n",
       "      <td>3</td>\n",
       "      <td>4</td>\n",
       "      <td>3</td>\n",
       "    </tr>\n",
       "    <tr>\n",
       "      <th>property_quality</th>\n",
       "      <td>7</td>\n",
       "      <td>7</td>\n",
       "      <td>7</td>\n",
       "      <td>8</td>\n",
       "      <td>8</td>\n",
       "    </tr>\n",
       "    <tr>\n",
       "      <th>sqft</th>\n",
       "      <td>3100.0</td>\n",
       "      <td>1465.0</td>\n",
       "      <td>1243.0</td>\n",
       "      <td>2376.0</td>\n",
       "      <td>1312.0</td>\n",
       "    </tr>\n",
       "    <tr>\n",
       "      <th>fips</th>\n",
       "      <td>6059</td>\n",
       "      <td>6111</td>\n",
       "      <td>6059</td>\n",
       "      <td>6037</td>\n",
       "      <td>6037</td>\n",
       "    </tr>\n",
       "    <tr>\n",
       "      <th>latitude</th>\n",
       "      <td>33634931.0</td>\n",
       "      <td>34449266.0</td>\n",
       "      <td>33886168.0</td>\n",
       "      <td>34245180.0</td>\n",
       "      <td>34185120.0</td>\n",
       "    </tr>\n",
       "    <tr>\n",
       "      <th>longitude</th>\n",
       "      <td>-117869207.0</td>\n",
       "      <td>-119281531.0</td>\n",
       "      <td>-117823170.0</td>\n",
       "      <td>-118240722.0</td>\n",
       "      <td>-118414640.0</td>\n",
       "    </tr>\n",
       "    <tr>\n",
       "      <th>lot_sqft</th>\n",
       "      <td>4506.0</td>\n",
       "      <td>12647.0</td>\n",
       "      <td>8432.0</td>\n",
       "      <td>13038.0</td>\n",
       "      <td>278581.0</td>\n",
       "    </tr>\n",
       "    <tr>\n",
       "      <th>rawcensustractandblock</th>\n",
       "      <td>60590630.072012</td>\n",
       "      <td>61110010.023006</td>\n",
       "      <td>60590218.022012</td>\n",
       "      <td>60373001.001006</td>\n",
       "      <td>60371236.012</td>\n",
       "    </tr>\n",
       "    <tr>\n",
       "      <th>regionidcity</th>\n",
       "      <td>53571.0</td>\n",
       "      <td>13091.0</td>\n",
       "      <td>21412.0</td>\n",
       "      <td>396551.0</td>\n",
       "      <td>12447.0</td>\n",
       "    </tr>\n",
       "    <tr>\n",
       "      <th>zip_code</th>\n",
       "      <td>96978</td>\n",
       "      <td>97099</td>\n",
       "      <td>97078</td>\n",
       "      <td>96330</td>\n",
       "      <td>96451</td>\n",
       "    </tr>\n",
       "    <tr>\n",
       "      <th>roomcnt</th>\n",
       "      <td>0</td>\n",
       "      <td>5</td>\n",
       "      <td>6</td>\n",
       "      <td>0</td>\n",
       "      <td>0</td>\n",
       "    </tr>\n",
       "    <tr>\n",
       "      <th>unitcnt</th>\n",
       "      <td>1</td>\n",
       "      <td>1</td>\n",
       "      <td>1</td>\n",
       "      <td>1</td>\n",
       "      <td>1</td>\n",
       "    </tr>\n",
       "    <tr>\n",
       "      <th>yearbuilt</th>\n",
       "      <td>1998</td>\n",
       "      <td>1967</td>\n",
       "      <td>1962</td>\n",
       "      <td>1970</td>\n",
       "      <td>1964</td>\n",
       "    </tr>\n",
       "    <tr>\n",
       "      <th>structure_value</th>\n",
       "      <td>485713.0</td>\n",
       "      <td>88000.0</td>\n",
       "      <td>85289.0</td>\n",
       "      <td>108918.0</td>\n",
       "      <td>73681.0</td>\n",
       "    </tr>\n",
       "    <tr>\n",
       "      <th>home_value</th>\n",
       "      <td>1023282.0</td>\n",
       "      <td>464000.0</td>\n",
       "      <td>564778.0</td>\n",
       "      <td>145143.0</td>\n",
       "      <td>119407.0</td>\n",
       "    </tr>\n",
       "    <tr>\n",
       "      <th>land_value</th>\n",
       "      <td>537569.0</td>\n",
       "      <td>376000.0</td>\n",
       "      <td>479489.0</td>\n",
       "      <td>36225.0</td>\n",
       "      <td>45726.0</td>\n",
       "    </tr>\n",
       "    <tr>\n",
       "      <th>taxamount</th>\n",
       "      <td>11013.72</td>\n",
       "      <td>5672.48</td>\n",
       "      <td>6488.3</td>\n",
       "      <td>1777.51</td>\n",
       "      <td>1533.89</td>\n",
       "    </tr>\n",
       "    <tr>\n",
       "      <th>logerror</th>\n",
       "      <td>0.025595</td>\n",
       "      <td>0.055619</td>\n",
       "      <td>0.005383</td>\n",
       "      <td>-0.10341</td>\n",
       "      <td>0.00694</td>\n",
       "    </tr>\n",
       "    <tr>\n",
       "      <th>transactiondate</th>\n",
       "      <td>2017-01-01</td>\n",
       "      <td>2017-01-01</td>\n",
       "      <td>2017-01-01</td>\n",
       "      <td>2017-01-01</td>\n",
       "      <td>2017-01-01</td>\n",
       "    </tr>\n",
       "    <tr>\n",
       "      <th>county</th>\n",
       "      <td>Orange</td>\n",
       "      <td>Ventura</td>\n",
       "      <td>Orange</td>\n",
       "      <td>Los_Angeles</td>\n",
       "      <td>Los_Angeles</td>\n",
       "    </tr>\n",
       "    <tr>\n",
       "      <th>home_age</th>\n",
       "      <td>23</td>\n",
       "      <td>54</td>\n",
       "      <td>59</td>\n",
       "      <td>51</td>\n",
       "      <td>57</td>\n",
       "    </tr>\n",
       "    <tr>\n",
       "      <th>logerror_quartiles</th>\n",
       "      <td>q3</td>\n",
       "      <td>q4</td>\n",
       "      <td>q2</td>\n",
       "      <td>q1</td>\n",
       "      <td>q3</td>\n",
       "    </tr>\n",
       "  </tbody>\n",
       "</table>\n",
       "</div>"
      ],
      "text/plain": [
       "parcelid                       14297519         17052889         14186244  \\\n",
       "bathrooms                           3.5              1.0              2.0   \n",
       "bedrooms                              4                2                3   \n",
       "property_quality                      7                7                7   \n",
       "sqft                             3100.0           1465.0           1243.0   \n",
       "fips                               6059             6111             6059   \n",
       "latitude                     33634931.0       34449266.0       33886168.0   \n",
       "longitude                  -117869207.0     -119281531.0     -117823170.0   \n",
       "lot_sqft                         4506.0          12647.0           8432.0   \n",
       "rawcensustractandblock  60590630.072012  61110010.023006  60590218.022012   \n",
       "regionidcity                    53571.0          13091.0          21412.0   \n",
       "zip_code                          96978            97099            97078   \n",
       "roomcnt                               0                5                6   \n",
       "unitcnt                               1                1                1   \n",
       "yearbuilt                          1998             1967             1962   \n",
       "structure_value                485713.0          88000.0          85289.0   \n",
       "home_value                    1023282.0         464000.0         564778.0   \n",
       "land_value                     537569.0         376000.0         479489.0   \n",
       "taxamount                      11013.72          5672.48           6488.3   \n",
       "logerror                       0.025595         0.055619         0.005383   \n",
       "transactiondate              2017-01-01       2017-01-01       2017-01-01   \n",
       "county                           Orange          Ventura           Orange   \n",
       "home_age                             23               54               59   \n",
       "logerror_quartiles                   q3               q4               q2   \n",
       "\n",
       "parcelid                       12177905      10887214  \n",
       "bathrooms                           3.0           3.0  \n",
       "bedrooms                              4             3  \n",
       "property_quality                      8             8  \n",
       "sqft                             2376.0        1312.0  \n",
       "fips                               6037          6037  \n",
       "latitude                     34245180.0    34185120.0  \n",
       "longitude                  -118240722.0  -118414640.0  \n",
       "lot_sqft                        13038.0      278581.0  \n",
       "rawcensustractandblock  60373001.001006  60371236.012  \n",
       "regionidcity                   396551.0       12447.0  \n",
       "zip_code                          96330         96451  \n",
       "roomcnt                               0             0  \n",
       "unitcnt                               1             1  \n",
       "yearbuilt                          1970          1964  \n",
       "structure_value                108918.0       73681.0  \n",
       "home_value                     145143.0      119407.0  \n",
       "land_value                      36225.0       45726.0  \n",
       "taxamount                       1777.51       1533.89  \n",
       "logerror                       -0.10341       0.00694  \n",
       "transactiondate              2017-01-01    2017-01-01  \n",
       "county                      Los_Angeles   Los_Angeles  \n",
       "home_age                             51            57  \n",
       "logerror_quartiles                   q1            q3  "
      ]
     },
     "execution_count": 4,
     "metadata": {},
     "output_type": "execute_result"
    }
   ],
   "source": [
    "df.head().T"
   ]
  },
  {
   "cell_type": "code",
   "execution_count": 8,
   "id": "11986e52",
   "metadata": {},
   "outputs": [
    {
     "data": {
      "text/plain": [
       "(71818, 23)"
      ]
     },
     "execution_count": 8,
     "metadata": {},
     "output_type": "execute_result"
    }
   ],
   "source": [
    "df.shape"
   ]
  },
  {
   "cell_type": "code",
   "execution_count": 9,
   "id": "bbb25287",
   "metadata": {},
   "outputs": [
    {
     "name": "stdout",
     "output_type": "stream",
     "text": [
      "<class 'pandas.core.frame.DataFrame'>\n",
      "Int64Index: 71818 entries, 14297519 to 12826780\n",
      "Data columns (total 23 columns):\n",
      " #   Column                  Non-Null Count  Dtype   \n",
      "---  ------                  --------------  -----   \n",
      " 0   bathrooms               71818 non-null  float64 \n",
      " 1   bedrooms                71818 non-null  int64   \n",
      " 2   property_quality        71818 non-null  int64   \n",
      " 3   sqft                    71818 non-null  float64 \n",
      " 4   fips                    71818 non-null  int64   \n",
      " 5   latitude                71818 non-null  float64 \n",
      " 6   longitude               71818 non-null  float64 \n",
      " 7   lot_sqft                71818 non-null  float64 \n",
      " 8   rawcensustractandblock  71818 non-null  float64 \n",
      " 9   regionidcity            71818 non-null  float64 \n",
      " 10  zip_code                71818 non-null  int64   \n",
      " 11  roomcnt                 71818 non-null  int64   \n",
      " 12  unitcnt                 71818 non-null  int64   \n",
      " 13  yearbuilt               71818 non-null  int64   \n",
      " 14  structure_value         71818 non-null  float64 \n",
      " 15  home_value              71818 non-null  float64 \n",
      " 16  land_value              71818 non-null  float64 \n",
      " 17  taxamount               71818 non-null  float64 \n",
      " 18  logerror                71818 non-null  float64 \n",
      " 19  transactiondate         71818 non-null  object  \n",
      " 20  county                  71818 non-null  object  \n",
      " 21  home_age                71818 non-null  int64   \n",
      " 22  logerror_quartiles      71818 non-null  category\n",
      "dtypes: category(1), float64(12), int64(8), object(2)\n",
      "memory usage: 12.7+ MB\n"
     ]
    }
   ],
   "source": [
    "df.info()"
   ]
  },
  {
   "cell_type": "code",
   "execution_count": 23,
   "id": "3caeb407",
   "metadata": {},
   "outputs": [
    {
     "name": "stdout",
     "output_type": "stream",
     "text": [
      "train -> (40217, 23)\n",
      "validate -> (17237, 23)\n",
      "test -> (14364, 23)\n"
     ]
    }
   ],
   "source": [
    "from sklearn.model_selection import train_test_split\n",
    "\n",
    "# Create test dataset\n",
    "\n",
    "train_validate, test = train_test_split(df, \n",
    "                                        test_size=.2, \n",
    "                                        random_state=123) \n",
    "                                        \n",
    "train, validate = train_test_split(train_validate, \n",
    "                                   test_size=.3, \n",
    "                                   random_state=123) \n",
    "                                   \n",
    "\n",
    "# Take a look at your split datasets\n",
    "\n",
    "print(f'train -> {train.shape}')\n",
    "print(f'validate -> {validate.shape}')\n",
    "print(f'test -> {test.shape}')"
   ]
  },
  {
   "cell_type": "code",
   "execution_count": 24,
   "id": "60391e2b",
   "metadata": {},
   "outputs": [
    {
     "data": {
      "text/plain": [
       "((40217, 23), (17237, 23), (14364, 23))"
      ]
     },
     "execution_count": 24,
     "metadata": {},
     "output_type": "execute_result"
    }
   ],
   "source": [
    "train.shape, validate.shape, test.shape"
   ]
  },
  {
   "cell_type": "code",
   "execution_count": 25,
   "id": "3279980b",
   "metadata": {},
   "outputs": [
    {
     "data": {
      "text/plain": [
       "['bathrooms',\n",
       " 'bedrooms',\n",
       " 'property_quality',\n",
       " 'sqft',\n",
       " 'fips',\n",
       " 'latitude',\n",
       " 'longitude',\n",
       " 'lot_sqft',\n",
       " 'rawcensustractandblock',\n",
       " 'regionidcity',\n",
       " 'zip_code',\n",
       " 'roomcnt',\n",
       " 'unitcnt',\n",
       " 'yearbuilt',\n",
       " 'structure_value',\n",
       " 'home_value',\n",
       " 'land_value',\n",
       " 'taxamount',\n",
       " 'logerror',\n",
       " 'transactiondate',\n",
       " 'county',\n",
       " 'home_age',\n",
       " 'logerror_quartiles']"
      ]
     },
     "execution_count": 25,
     "metadata": {},
     "output_type": "execute_result"
    }
   ],
   "source": [
    "train.columns.to_list()"
   ]
  },
  {
   "cell_type": "code",
   "execution_count": null,
   "id": "8219b401",
   "metadata": {},
   "outputs": [],
   "source": [
    "df.shape"
   ]
  },
  {
   "cell_type": "code",
   "execution_count": null,
   "id": "6db7d462",
   "metadata": {},
   "outputs": [],
   "source": [
    "df.info()"
   ]
  },
  {
   "cell_type": "code",
   "execution_count": null,
   "id": "3234d081",
   "metadata": {},
   "outputs": [],
   "source": [
    "explore.head().T"
   ]
  },
  {
   "cell_type": "code",
   "execution_count": null,
   "id": "332c2bd3",
   "metadata": {},
   "outputs": [],
   "source": [
    "def train_validate_test_split(df, target, seed):\n",
    "    '''\n",
    "    spilts our data  into train, validate, test\n",
    "    '''\n",
    "    # Train, Validate, and test\n",
    "    train_and_validate, test = train_test_split(\n",
    "        df, test_size=0.2, random_state=seed)\n",
    "    train, validate = train_test_split(\n",
    "        train_and_validate,\n",
    "        test_size=0.3,\n",
    "        random_state=seed)\n",
    "    # Split with X and y\n",
    "    X_train = train.drop(columns=[target])\n",
    "    y_train = train[target]\n",
    "    X_validate = validate.drop(columns=[target])\n",
    "    y_validate = validate[target]\n",
    "    X_test = test.drop(columns=[target])\n",
    "    y_test = test[target]\n",
    "    return train, validate, test, X_train, y_train, X_validate, y_validate, X_test, y_test  "
   ]
  },
  {
   "cell_type": "code",
   "execution_count": null,
   "id": "01f4342e",
   "metadata": {},
   "outputs": [],
   "source": [
    "train, validate, test, X_train, y_train, X_validate, y_validate, X_test, y_test = train_validate_test_split(explore, 'logerror', 123)"
   ]
  },
  {
   "cell_type": "code",
   "execution_count": null,
   "id": "6a9759f0",
   "metadata": {},
   "outputs": [],
   "source": [
    "print(f'train -> {train.shape}')\n",
    "print(f'validate -> {validate.shape}')\n",
    "print(f'test -> {test.shape}')"
   ]
  },
  {
   "cell_type": "code",
   "execution_count": null,
   "id": "142fcc3c",
   "metadata": {},
   "outputs": [],
   "source": [
    "train.head().T"
   ]
  },
  {
   "cell_type": "markdown",
   "id": "097190a8",
   "metadata": {},
   "source": [
    "#columns_to_scale=['bedroomcnt', 'calculatedfinishedsquarefeet', 'fullbathcnt', 'lotsizesquarefeet', 'roomcnt', 'unitcnt', \n",
    "#'structuretaxvaluedollarcnt', 'taxvaluedollarcnt', 'taxamount', 'longitude', 'latitude', 'age', 'taxrate', 'structure_dollar_per_sqft', \n",
    "#'land_dollar_per_sqft', 'bed_bath_ratio']"
   ]
  },
  {
   "cell_type": "code",
   "execution_count": null,
   "id": "9f001282",
   "metadata": {},
   "outputs": [],
   "source": [
    "def Standard_Scaler(X_train, X_validate, X_test):\n",
    "    \"\"\"\n",
    "    Takes in X_train, X_validate and X_test dfs with numeric values only\n",
    "    Returns scaler, X_train_scaled, X_validate_scaled, X_test_scaled dfs\n",
    "    \"\"\"\n",
    "    scaler = sklearn.preprocessing.StandardScaler().fit(X_train)\n",
    "    X_train_scaled = pd.DataFrame(scaler.transform(X_train), index = X_train.index, columns = X_train.columns)\n",
    "    X_validate_scaled = pd.DataFrame(scaler.transform(X_validate), index = X_validate.index, columns = X_validate.columns)\n",
    "    X_test_scaled = pd.DataFrame(scaler.transform(X_test), index = X_test.index, columns = X_test.columns)\n",
    "    return scaler, X_train_scaled, X_validate_scaled, X_test_scaled"
   ]
  },
  {
   "cell_type": "code",
   "execution_count": null,
   "id": "dfc10d3d",
   "metadata": {},
   "outputs": [],
   "source": [
    "scaler, X_train_scaled, X_validate_scaled, X_test_scaled = Standard_Scaler(X_train, X_validate, X_test)"
   ]
  },
  {
   "cell_type": "code",
   "execution_count": null,
   "id": "e548a5d9",
   "metadata": {},
   "outputs": [],
   "source": [
    "explore.head().T"
   ]
  },
  {
   "cell_type": "code",
   "execution_count": null,
   "id": "ccdced17",
   "metadata": {},
   "outputs": [],
   "source": [
    "numeric_cols = ['bathrooms',\n",
    " 'bedrooms',\n",
    " 'property_quality',\n",
    " 'sqft',\n",
    " 'fips',\n",
    " 'latitude',\n",
    " 'longitude',\n",
    " 'lot_sqft',\n",
    " 'rawcensustractandblock',\n",
    " 'regionidcity',\n",
    " 'zip_code',\n",
    " 'roomcnt',\n",
    " 'unitcnt',\n",
    " 'yearbuilt',\n",
    " 'structure_value',\n",
    " 'home_value',\n",
    " 'land_value',\n",
    " 'taxamount',\n",
    " 'home_age']"
   ]
  },
  {
   "cell_type": "code",
   "execution_count": null,
   "id": "b9480b72",
   "metadata": {},
   "outputs": [],
   "source": [
    "binary_vars = []\n",
    "categorical_vars = ['transactiondate', 'county']\n",
    "\n",
    "quant_vars = ['LA',\n",
    " 'Orange',\n",
    " 'Ventura',\n",
    " 'fips',\n",
    " 'latitude',\n",
    " 'longitude',\n",
    " 'sqft',\n",
    " 'lot_sqft',\n",
    " 'zip_code',\n",
    " 'property_quality',\n",
    " 'home_age',\n",
    " 'logerror']\n",
    "categorical_target = 'logerror_quartiles'\n",
    "continuous_target = 'logerror'"
   ]
  },
  {
   "cell_type": "code",
   "execution_count": null,
   "id": "400ea6d7",
   "metadata": {},
   "outputs": [],
   "source": [
    "exp.explore_univariate(train, binary_vars, quant_vars)"
   ]
  },
  {
   "cell_type": "code",
   "execution_count": null,
   "id": "7f331ddd",
   "metadata": {},
   "outputs": [],
   "source": [
    "df['logerror_quartiles'] = pd.qcut(df.logerror, q=4, labels=['q1', 'q2', 'q3', 'q4'])"
   ]
  },
  {
   "cell_type": "code",
   "execution_count": null,
   "id": "3ecd6a21",
   "metadata": {},
   "outputs": [],
   "source": []
  },
  {
   "cell_type": "code",
   "execution_count": null,
   "id": "c28550af",
   "metadata": {},
   "outputs": [],
   "source": [
    "#Standard Scaler\n",
    "exp.explore_bivariate(train, categorical_target, continuous_target, binary_vars, quant_vars)"
   ]
  },
  {
   "cell_type": "markdown",
   "id": "6bb8afc5",
   "metadata": {},
   "source": [
    "### Scatter plot to show cost per sqft and logerror per county "
   ]
  },
  {
   "cell_type": "code",
   "execution_count": null,
   "id": "cfd84176",
   "metadata": {},
   "outputs": [],
   "source": [
    "plt.rcParams['figure.figsize'] = (12.0, 10.0)\n",
    "sns.scatterplot(x='home_age', y='logerror',\n",
    "               data=df, hue='county')\n",
    "plt.title(\"How does a homes' age compare to logerror\\nwithin each county?\")\n",
    "plt.show()"
   ]
  },
  {
   "cell_type": "code",
   "execution_count": null,
   "id": "30f7be89",
   "metadata": {},
   "outputs": [],
   "source": [
    "df['structure_dollar_per_sqft'] = df.structure_value / df.sqft"
   ]
  },
  {
   "cell_type": "code",
   "execution_count": null,
   "id": "0c849e88",
   "metadata": {},
   "outputs": [],
   "source": [
    "df['land_dollar_per_sqft'] = df.land_value / df.lot_sqft"
   ]
  },
  {
   "cell_type": "code",
   "execution_count": null,
   "id": "ce7c0e43",
   "metadata": {},
   "outputs": [],
   "source": [
    "df['bed_bath_ratio'] = df.bedrooms / df.bathrooms"
   ]
  },
  {
   "cell_type": "code",
   "execution_count": null,
   "id": "2497ffb9",
   "metadata": {},
   "outputs": [],
   "source": [
    "df.head()"
   ]
  },
  {
   "cell_type": "code",
   "execution_count": null,
   "id": "c881b5ef",
   "metadata": {},
   "outputs": [],
   "source": [
    "df.structure_dollar_per_sqft.describe()"
   ]
  },
  {
   "cell_type": "code",
   "execution_count": null,
   "id": "4680985a",
   "metadata": {},
   "outputs": [],
   "source": [
    "plt.rcParams['figure.figsize'] = (15.0, 8.0)\n",
    "sns.scatterplot(x='structure_dollar_per_sqft', y='logerror',\n",
    "               data=df, hue='county')\n",
    "plt.title(\"How does structure value per sqft compare to logerror\\nwithin each county?\")\n",
    "plt.show()"
   ]
  },
  {
   "cell_type": "code",
   "execution_count": null,
   "id": "37414177",
   "metadata": {},
   "outputs": [],
   "source": [
    " df.rename(columns={\"bathroomcnt\": \"bathrooms\", \n",
    "                   \"bedroomcnt\": \"bedrooms\",\n",
    "                   \"buildingqualitytypeid\": \"property_quality\", \n",
    "                   \"calculatedfinishedsquarefeet\": \"sqft\",\n",
    "                   \"lotsizesquarefeet\": \"lot_sqft\",\n",
    "                   \"regionidzip\": \"zip_code\",\n",
    "                   \"landtaxvaluedollarcnt\": \"land_value\",\n",
    "                   \"structuretaxvaluedollarcnt\": \"structure_value\",\n",
    "                   \"taxvaluedollarcnt \": \"home_value\"\n",
    "                  }, inplace=True)\n",
    "    \n"
   ]
  },
  {
   "cell_type": "code",
   "execution_count": null,
   "id": "252055fc",
   "metadata": {},
   "outputs": [],
   "source": [
    "df['logerror_quartiles'] = pd.qcut(df.logerror, q=4, labels=['q1', 'q2', 'q3', 'q4'])"
   ]
  },
  {
   "cell_type": "code",
   "execution_count": null,
   "id": "e4c234bb",
   "metadata": {},
   "outputs": [],
   "source": [
    "df.head().T"
   ]
  },
  {
   "cell_type": "code",
   "execution_count": null,
   "id": "ea2fc2c0",
   "metadata": {},
   "outputs": [],
   "source": [
    "# Now we choose what data we want explore by renaming it "
   ]
  },
  {
   "cell_type": "code",
   "execution_count": null,
   "id": "73c6f9a6",
   "metadata": {},
   "outputs": [],
   "source": [
    "dummies = pd.get_dummies(df.county) \n",
    "dummies.columns = ['LA', 'Orange', 'Ventura']\n",
    "df = pd.concat([df, dummies], axis=1)"
   ]
  },
  {
   "cell_type": "code",
   "execution_count": null,
   "id": "82087d67",
   "metadata": {},
   "outputs": [],
   "source": [
    "new = df[['LA', 'Orange', 'Ventura','fips','latitude', 'longitude', 'sqft', 'lot_sqft', 'zip_code', 'property_quality', 'home_age', 'logerror']].copy()"
   ]
  },
  {
   "cell_type": "code",
   "execution_count": null,
   "id": "a243014f",
   "metadata": {},
   "outputs": [],
   "source": []
  }
 ],
 "metadata": {
  "kernelspec": {
   "display_name": "Python 3 (ipykernel)",
   "language": "python",
   "name": "python3"
  },
  "language_info": {
   "codemirror_mode": {
    "name": "ipython",
    "version": 3
   },
   "file_extension": ".py",
   "mimetype": "text/x-python",
   "name": "python",
   "nbconvert_exporter": "python",
   "pygments_lexer": "ipython3",
   "version": "3.9.7"
  }
 },
 "nbformat": 4,
 "nbformat_minor": 5
}
